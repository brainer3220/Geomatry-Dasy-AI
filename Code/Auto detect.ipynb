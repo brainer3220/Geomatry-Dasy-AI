{
 "cells": [
  {
   "cell_type": "code",
   "execution_count": 1,
   "id": "clinical-badge",
   "metadata": {},
   "outputs": [],
   "source": [
    "import tensorflow as tf\n",
    "import tensorflow.keras\n",
    "import cv2\n",
    "import os\n",
    "import pandas as pd\n",
    "import numpy as np"
   ]
  },
  {
   "cell_type": "code",
   "execution_count": 2,
   "id": "efficient-gothic",
   "metadata": {},
   "outputs": [],
   "source": [
    "GRID_SIZE = 30"
   ]
  },
  {
   "cell_type": "code",
   "execution_count": 3,
   "id": "bright-virus",
   "metadata": {},
   "outputs": [],
   "source": [
    "image_folder = '../Photo/isPlay/'\n",
    "\n",
    "play_folder = os.listdir(image_folder+'GMD Play')\n",
    "miss_folder = os.listdir(image_folder+'GMD Miss')"
   ]
  },
  {
   "cell_type": "code",
   "execution_count": 4,
   "id": "opposite-highland",
   "metadata": {},
   "outputs": [],
   "source": [
    "tmp_img = cv2.imread(play_folder[0])\n",
    "tmp_img.shape"
   ]
  }
 ],
 "metadata": {
  "kernelspec": {
   "display_name": "Python 3",
   "language": "python",
   "name": "python3"
  },
  "language_info": {
   "codemirror_mode": {
    "name": "ipython",
    "version": 3
   },
   "file_extension": ".py",
   "mimetype": "text/x-python",
   "name": "python",
   "nbconvert_exporter": "python",
   "pygments_lexer": "ipython3",
   "version": "3.8.2"
  }
 },
 "nbformat": 4,
 "nbformat_minor": 5
}
